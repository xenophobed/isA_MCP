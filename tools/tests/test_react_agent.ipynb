{
 "cells": [
  {
   "cell_type": "code",
   "execution_count": 2,
   "metadata": {},
   "outputs": [],
   "source": [
    "import sys\n",
    "sys.path.append('/Users/xenodennis/Documents/Fun/HaleyAI')"
   ]
  },
  {
   "cell_type": "code",
   "execution_count": 3,
   "metadata": {},
   "outputs": [
    {
     "name": "stderr",
     "output_type": "stream",
     "text": [
      "2024-12-15 09:56:01,072 - app.config.config_manager - INFO - Initializing configurations...\n",
      "2024-12-15 09:56:01,163 - app.config.config_manager - INFO - All configurations initialized and validated\n"
     ]
    }
   ],
   "source": [
    "from typing import Literal\n",
    "from app.services.ai.tools.tools_manager import tools_manager\n",
    "from app.services.ai.llm.llm_factory import LLMFactory\n",
    "from app.config.config_manager import config_manager\n",
    "from app.services.ai.tools.weather_tools import get_weather, get_coolest_cities\n",
    "\n",
    "from langgraph.graph import StateGraph, MessagesState, START, END\n",
    "tool_node = tools_manager.create_tool_node([\"get_weather\", \"get_coolest_cities\"])\n",
    "llm = await LLMFactory.create_llm_service(\"openai\", config_manager.get_config('llm'))\n",
    "model_with_tools = llm.client.bind_tools(tools_manager.get_tools())\n",
    "\n",
    "def should_continue(state: MessagesState):\n",
    "    messages = state[\"messages\"]\n",
    "    last_message = messages[-1]\n",
    "    if last_message.tool_calls:\n",
    "        return \"tools\"\n",
    "    return END\n",
    "\n",
    "def call_model(state: MessagesState):\n",
    "    messages = state[\"messages\"]\n",
    "    response = model_with_tools.invoke(messages)\n",
    "    return {\"messages\": [response]}\n",
    "\n",
    "\n",
    "workflow = StateGraph(MessagesState)\n",
    "\n",
    "# Define the two nodes we will cycle between\n",
    "workflow.add_node(\"agent\", call_model)\n",
    "workflow.add_node(\"tools\", tool_node)\n",
    "\n",
    "workflow.add_edge(START, \"agent\")\n",
    "workflow.add_conditional_edges(\"agent\", should_continue, [\"tools\", END])\n",
    "workflow.add_edge(\"tools\", \"agent\")\n",
    "\n",
    "app = workflow.compile()"
   ]
  },
  {
   "cell_type": "code",
   "execution_count": 30,
   "metadata": {},
   "outputs": [
    {
     "name": "stdout",
     "output_type": "stream",
     "text": [
      "Available tools: [StructuredTool(name='get_weather', description='Get the current weather for a location.', args_schema=<class 'langchain_core.utils.pydantic.get_weather'>, func=<function get_weather at 0x17fa3b7e0>), StructuredTool(name='get_coolest_cities', description='Get a list of coolest cities', args_schema=<class 'langchain_core.utils.pydantic.get_coolest_cities'>, func=<function get_coolest_cities at 0x178f449a0>)]\n"
     ]
    }
   ],
   "source": [
    "print(\"Available tools:\", tools_manager.get_tools())"
   ]
  },
  {
   "cell_type": "code",
   "execution_count": 31,
   "metadata": {},
   "outputs": [
    {
     "name": "stdout",
     "output_type": "stream",
     "text": [
      "Tool names: ['get_weather', 'get_coolest_cities']\n"
     ]
    }
   ],
   "source": [
    "print(\"Tool names:\", [tool.name for tool in tools_manager.get_tools()])"
   ]
  },
  {
   "cell_type": "code",
   "execution_count": 32,
   "metadata": {},
   "outputs": [
    {
     "name": "stderr",
     "output_type": "stream",
     "text": [
      "2024-12-12 17:31:36,919 - httpx - INFO - HTTP Request: POST https://api.ai-yyds.com/v1/chat/completions \"HTTP/1.1 200 OK\"\n"
     ]
    },
    {
     "name": "stdout",
     "output_type": "stream",
     "text": [
      "Tool calls: [{'name': 'get_weather', 'args': {'location': 'San Francisco'}, 'id': 'call_FIh5XMjxWUM0DRWsA0xk7ZfB', 'type': 'tool_call'}]\n"
     ]
    }
   ],
   "source": [
    "from app.services.ai.tools.tools_manager import tools_manager\n",
    "from app.services.ai.llm.llm_factory import LLMFactory\n",
    "from app.config.config_manager import config_manager\n",
    "\n",
    "tool_node = tools_manager.create_tool_node()\n",
    "llm = await LLMFactory.create_llm_service(\"openai\", config_manager.get_config('llm'))\n",
    "model_with_tools = llm.client.bind_tools(tools_manager.get_tools())\n",
    "tool_calls = model_with_tools.invoke(\"what's the weather in sf?\").tool_calls \n",
    "print(f\"Tool calls: {tool_calls}\")\n"
   ]
  },
  {
   "cell_type": "code",
   "execution_count": 12,
   "metadata": {},
   "outputs": [
    {
     "data": {
      "image/jpeg": "[encoded data removed]",
      "text/plain": [
       "<IPython.core.display.Image object>"
      ]
     },
     "metadata": {},
     "output_type": "display_data"
    }
   ],
   "source": [
    "from IPython.display import Image, display\n",
    "\n",
    "try:\n",
    "    display(Image(app.get_graph().draw_mermaid_png()))\n",
    "except Exception:\n",
    "    # This requires some extra dependencies and is optional\n",
    "    pass"
   ]
  },
  {
   "cell_type": "code",
   "execution_count": 4,
   "metadata": {},
   "outputs": [
    {
     "name": "stdout",
     "output_type": "stream",
     "text": [
      "================================\u001b[1m Human Message \u001b[0m=================================\n",
      "\n",
      "what's the weather in sf? and what's the coolest cities?\n"
     ]
    },
    {
     "name": "stderr",
     "output_type": "stream",
     "text": [
      "2024-12-15 09:56:29,599 - httpx - INFO - HTTP Request: POST https://api.ai-yyds.com/v1/chat/completions \"HTTP/1.1 200 OK\"\n"
     ]
    },
    {
     "name": "stdout",
     "output_type": "stream",
     "text": [
      "==================================\u001b[1m Ai Message \u001b[0m==================================\n",
      "Tool Calls:\n",
      "  get_weather (call_79kC2lPNzDeCFaDYVjAgBoM3)\n",
      " Call ID: call_79kC2lPNzDeCFaDYVjAgBoM3\n",
      "  Args:\n",
      "    location: San Francisco\n",
      "  get_coolest_cities (call_Zr1CAGxhogq8xVfrOQqqypl9)\n",
      " Call ID: call_Zr1CAGxhogq8xVfrOQqqypl9\n",
      "  Args:\n",
      "=================================\u001b[1m Tool Message \u001b[0m=================================\n",
      "Name: get_coolest_cities\n",
      "\n",
      "nyc, sf\n"
     ]
    },
    {
     "name": "stderr",
     "output_type": "stream",
     "text": [
      "2024-12-15 09:56:36,232 - httpx - INFO - HTTP Request: POST https://api.ai-yyds.com/v1/chat/completions \"HTTP/1.1 200 OK\"\n"
     ]
    },
    {
     "name": "stdout",
     "output_type": "stream",
     "text": [
      "==================================\u001b[1m Ai Message \u001b[0m==================================\n",
      "\n",
      "The weather in San Francisco is currently 60 degrees and foggy. As for the coolest cities, New York City (NYC) and San Francisco (SF) are among them.\n"
     ]
    }
   ],
   "source": [
    "for chunk in app.stream(\n",
    "    {\"messages\": [(\"human\", \"what's the weather in sf? and what's the coolest cities?\")]}, stream_mode=\"values\"\n",
    "):\n",
    "    chunk[\"messages\"][-1].pretty_print()"
   ]
  },
  {
   "cell_type": "code",
   "execution_count": 5,
   "metadata": {},
   "outputs": [
    {
     "name": "stdout",
     "output_type": "stream",
     "text": [
      "{'messages': [HumanMessage(content=\"what's the weather in sf? and what's the coolest cities?\", additional_kwargs={}, response_metadata={}, id='3c92ee54-9e1a-4dce-950f-b66e36c26e53')]}\n"
     ]
    },
    {
     "name": "stderr",
     "output_type": "stream",
     "text": [
      "2024-12-15 10:01:38,173 - httpx - INFO - HTTP Request: POST https://api.ai-yyds.com/v1/chat/completions \"HTTP/1.1 200 OK\"\n"
     ]
    },
    {
     "name": "stdout",
     "output_type": "stream",
     "text": [
      "{'messages': [HumanMessage(content=\"what's the weather in sf? and what's the coolest cities?\", additional_kwargs={}, response_metadata={}, id='3c92ee54-9e1a-4dce-950f-b66e36c26e53'), AIMessage(content='', additional_kwargs={'tool_calls': [{'id': 'call_oOA2u6u1UhIQokc3d4UZ1hQz', 'function': {'arguments': '{\"location\": \"San Francisco\"}', 'name': 'get_weather'}, 'type': 'function'}, {'id': 'call_5lk5Zx39pHH8XgWkfhV5hLf4', 'function': {'arguments': '{}', 'name': 'get_coolest_cities'}, 'type': 'function'}], 'refusal': None}, response_metadata={'token_usage': {'completion_tokens': 47, 'prompt_tokens': 77, 'total_tokens': 124, 'completion_tokens_details': None, 'prompt_tokens_details': None}, 'model_name': 'gpt-4o-mini-2024-07-18', 'system_fingerprint': 'fp_04751d0b65', 'finish_reason': 'tool_calls', 'logprobs': None}, id='run-96d92f6d-40e4-4ff0-b0cf-1574b84ab995-0', tool_calls=[{'name': 'get_weather', 'args': {'location': 'San Francisco'}, 'id': 'call_oOA2u6u1UhIQokc3d4UZ1hQz', 'type': 'tool_call'}, {'name': 'get_coolest_cities', 'args': {}, 'id': 'call_5lk5Zx39pHH8XgWkfhV5hLf4', 'type': 'tool_call'}], usage_metadata={'input_tokens': 77, 'output_tokens': 47, 'total_tokens': 124, 'input_token_details': {}, 'output_token_details': {}})]}\n",
      "{'messages': [HumanMessage(content=\"what's the weather in sf? and what's the coolest cities?\", additional_kwargs={}, response_metadata={}, id='3c92ee54-9e1a-4dce-950f-b66e36c26e53'), AIMessage(content='', additional_kwargs={'tool_calls': [{'id': 'call_oOA2u6u1UhIQokc3d4UZ1hQz', 'function': {'arguments': '{\"location\": \"San Francisco\"}', 'name': 'get_weather'}, 'type': 'function'}, {'id': 'call_5lk5Zx39pHH8XgWkfhV5hLf4', 'function': {'arguments': '{}', 'name': 'get_coolest_cities'}, 'type': 'function'}], 'refusal': None}, response_metadata={'token_usage': {'completion_tokens': 47, 'prompt_tokens': 77, 'total_tokens': 124, 'completion_tokens_details': None, 'prompt_tokens_details': None}, 'model_name': 'gpt-4o-mini-2024-07-18', 'system_fingerprint': 'fp_04751d0b65', 'finish_reason': 'tool_calls', 'logprobs': None}, id='run-96d92f6d-40e4-4ff0-b0cf-1574b84ab995-0', tool_calls=[{'name': 'get_weather', 'args': {'location': 'San Francisco'}, 'id': 'call_oOA2u6u1UhIQokc3d4UZ1hQz', 'type': 'tool_call'}, {'name': 'get_coolest_cities', 'args': {}, 'id': 'call_5lk5Zx39pHH8XgWkfhV5hLf4', 'type': 'tool_call'}], usage_metadata={'input_tokens': 77, 'output_tokens': 47, 'total_tokens': 124, 'input_token_details': {}, 'output_token_details': {}}), ToolMessage(content=\"It's 60 degrees and foggy.\", name='get_weather', id='0b4cb126-9fcb-4ea8-af84-bd74b963be5b', tool_call_id='call_oOA2u6u1UhIQokc3d4UZ1hQz'), ToolMessage(content='nyc, sf', name='get_coolest_cities', id='acb1e26a-dbb6-4593-a37a-be8817d36214', tool_call_id='call_5lk5Zx39pHH8XgWkfhV5hLf4')]}\n"
     ]
    },
    {
     "name": "stderr",
     "output_type": "stream",
     "text": [
      "2024-12-15 10:01:41,415 - httpx - INFO - HTTP Request: POST https://api.ai-yyds.com/v1/chat/completions \"HTTP/1.1 200 OK\"\n"
     ]
    },
    {
     "name": "stdout",
     "output_type": "stream",
     "text": [
      "{'messages': [HumanMessage(content=\"what's the weather in sf? and what's the coolest cities?\", additional_kwargs={}, response_metadata={}, id='3c92ee54-9e1a-4dce-950f-b66e36c26e53'), AIMessage(content='', additional_kwargs={'tool_calls': [{'id': 'call_oOA2u6u1UhIQokc3d4UZ1hQz', 'function': {'arguments': '{\"location\": \"San Francisco\"}', 'name': 'get_weather'}, 'type': 'function'}, {'id': 'call_5lk5Zx39pHH8XgWkfhV5hLf4', 'function': {'arguments': '{}', 'name': 'get_coolest_cities'}, 'type': 'function'}], 'refusal': None}, response_metadata={'token_usage': {'completion_tokens': 47, 'prompt_tokens': 77, 'total_tokens': 124, 'completion_tokens_details': None, 'prompt_tokens_details': None}, 'model_name': 'gpt-4o-mini-2024-07-18', 'system_fingerprint': 'fp_04751d0b65', 'finish_reason': 'tool_calls', 'logprobs': None}, id='run-96d92f6d-40e4-4ff0-b0cf-1574b84ab995-0', tool_calls=[{'name': 'get_weather', 'args': {'location': 'San Francisco'}, 'id': 'call_oOA2u6u1UhIQokc3d4UZ1hQz', 'type': 'tool_call'}, {'name': 'get_coolest_cities', 'args': {}, 'id': 'call_5lk5Zx39pHH8XgWkfhV5hLf4', 'type': 'tool_call'}], usage_metadata={'input_tokens': 77, 'output_tokens': 47, 'total_tokens': 124, 'input_token_details': {}, 'output_token_details': {}}), ToolMessage(content=\"It's 60 degrees and foggy.\", name='get_weather', id='0b4cb126-9fcb-4ea8-af84-bd74b963be5b', tool_call_id='call_oOA2u6u1UhIQokc3d4UZ1hQz'), ToolMessage(content='nyc, sf', name='get_coolest_cities', id='acb1e26a-dbb6-4593-a37a-be8817d36214', tool_call_id='call_5lk5Zx39pHH8XgWkfhV5hLf4'), AIMessage(content='The current weather in San Francisco is 60 degrees and foggy. As for the coolest cities, San Francisco and New York City are mentioned.', additional_kwargs={'refusal': None}, response_metadata={'token_usage': {'completion_tokens': 30, 'prompt_tokens': 149, 'total_tokens': 179, 'completion_tokens_details': None, 'prompt_tokens_details': None}, 'model_name': 'gpt-4o-mini-2024-07-18', 'system_fingerprint': 'fp_04751d0b65', 'finish_reason': 'stop', 'logprobs': None}, id='run-0a3dc746-2cd3-4340-add8-ede329a9f5eb-0', usage_metadata={'input_tokens': 149, 'output_tokens': 30, 'total_tokens': 179, 'input_token_details': {}, 'output_token_details': {}})]}\n"
     ]
    }
   ],
   "source": [
    "for chunk in app.stream(\n",
    "    {\"messages\": [(\"human\", \"what's the weather in sf? and what's the coolest cities?\")]}, stream_mode=\"values\"\n",
    "):\n",
    "    print(chunk)"
   ]
  },
  {
   "cell_type": "code",
   "execution_count": null,
   "metadata": {},
   "outputs": [],
   "source": []
  }
 ],
 "metadata": {
  "kernelspec": {
   "display_name": "venv_haley",
   "language": "python",
   "name": "python3"
  },
  "language_info": {
   "codemirror_mode": {
    "name": "ipython",
    "version": 3
   },
   "file_extension": ".py",
   "mimetype": "text/x-python",
   "name": "python",
   "nbconvert_exporter": "python",
   "pygments_lexer": "ipython3",
   "version": "3.12.3"
  }
 },
 "nbformat": 4,
 "nbformat_minor": 2
}
