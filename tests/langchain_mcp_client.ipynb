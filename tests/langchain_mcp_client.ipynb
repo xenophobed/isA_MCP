{
 "cells": [
  {
   "cell_type": "code",
   "execution_count": 1,
   "metadata": {},
   "outputs": [],
   "source": [
    "from langchain_mcp_adapters.client import MultiServerMCPClient\n",
    "from langgraph.prebuilt import create_react_agent"
   ]
  },
  {
   "cell_type": "code",
   "execution_count": 2,
   "metadata": {},
   "outputs": [],
   "source": [
    "client = MultiServerMCPClient(\n",
    "    {\n",
    "        \"weather\": {\n",
    "            \"url\": \"http://localhost:8000/mcp\",\n",
    "            \"transport\": \"streamable_http\",\n",
    "        }\n",
    "    }\n",
    ")"
   ]
  },
  {
   "cell_type": "code",
   "execution_count": 3,
   "metadata": {},
   "outputs": [],
   "source": [
    "tools = await client.get_tools()"
   ]
  },
  {
   "cell_type": "code",
   "execution_count": 6,
   "metadata": {},
   "outputs": [],
   "source": [
    "from langchain_openai import ChatOpenAI\n",
    "import os \n",
    "\n",
    "llm = ChatOpenAI(\n",
    "    model = \"gpt-4o\",\n",
    "    api_key = \"your_openai_api_key\",\n",
    "    base_url = \"https://api.ai-yyds.com/v1\"\n",
    ")\n",
    "\n",
    "agent = create_react_agent(\n",
    "    tools=tools,\n",
    "    model = llm,\n",
    ")"
   ]
  },
  {
   "cell_type": "code",
   "execution_count": 7,
   "metadata": {},
   "outputs": [],
   "source": [
    "weather_response = await agent.ainvoke(\n",
    "    {\"messages\": [{\"role\": \"user\", \"content\": \"what is the weather in nyc?\"}]}\n",
    ")"
   ]
  },
  {
   "cell_type": "code",
   "execution_count": 9,
   "metadata": {},
   "outputs": [
    {
     "name": "stdout",
     "output_type": "stream",
     "text": [
      "\n",
      "=== Weather Response Flow ===\n",
      "\n",
      "\n",
      "--- Message 1 ---\n",
      "Type: HumanMessage\n",
      "Content: what is the weather in nyc?\n",
      "Tool Name: None\n",
      "ID: fbb3d7de-24c9-4fa7-9ff6-1c9950aa03f8\n",
      "--------------------------------------------------\n",
      "\n",
      "--- Message 2 ---\n",
      "Type: AIMessage\n",
      "Content: \n",
      "\n",
      "Tool Calls:\n",
      "  - Function: get_weather\n",
      "    Arguments: {'location': 'New York City'}\n",
      "Tool Name: None\n",
      "ID: run--f919bae8-0e49-48c3-8cc9-09dc92daf439-0\n",
      "--------------------------------------------------\n",
      "\n",
      "--- Message 3 ---\n",
      "Type: ToolMessage\n",
      "Content: It's always sunny in New York\n",
      "Tool Name: get_weather\n",
      "ID: cfc53f1d-1054-447b-b364-457c1db398c1\n",
      "--------------------------------------------------\n",
      "\n",
      "--- Message 4 ---\n",
      "Type: AIMessage\n",
      "Content: The weather in New York City is currently sunny.\n",
      "Tool Name: None\n",
      "ID: run--9c390836-ca2f-48cc-a8c6-02827ccd2c98-0\n",
      "--------------------------------------------------\n"
     ]
    }
   ],
   "source": [
    "print(\"\\n=== Weather Response Flow ===\\n\")\n",
    "for i, message in enumerate(weather_response['messages'], 1):\n",
    "    print(f\"\\n--- Message {i} ---\")\n",
    "    print(f\"Type: {message.__class__.__name__}\")\n",
    "    print(f\"Content: {message.content}\")\n",
    "    \n",
    "    if hasattr(message, 'tool_calls') and message.tool_calls:\n",
    "        print(\"\\nTool Calls:\")\n",
    "        for tool_call in message.tool_calls:\n",
    "            print(f\"  - Function: {tool_call['name']}\")\n",
    "            print(f\"    Arguments: {tool_call['args']}\")\n",
    "    \n",
    "    if hasattr(message, 'name'):\n",
    "        print(f\"Tool Name: {message.name}\")\n",
    "    \n",
    "    print(f\"ID: {message.id}\")\n",
    "    print(\"-\" * 50)\n"
   ]
  },
  {
   "cell_type": "code",
   "execution_count": null,
   "metadata": {},
   "outputs": [],
   "source": []
  }
 ],
 "metadata": {
  "kernelspec": {
   "display_name": "Python 3",
   "language": "python",
   "name": "python3"
  },
  "language_info": {
   "codemirror_mode": {
    "name": "ipython",
    "version": 3
   },
   "file_extension": ".py",
   "mimetype": "text/x-python",
   "name": "python",
   "nbconvert_exporter": "python",
   "pygments_lexer": "ipython3",
   "version": "3.11.8"
  }
 },
 "nbformat": 4,
 "nbformat_minor": 2
}
